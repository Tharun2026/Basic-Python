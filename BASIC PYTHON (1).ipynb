{
 "cells": [
  {
   "cell_type": "markdown",
   "id": "c6cfc3bb-8fd3-4936-9da5-ecabef52630d",
   "metadata": {},
   "source": [
    "DATA TYPES"
   ]
  },
  {
   "cell_type": "code",
   "execution_count": null,
   "id": "2e137d56-2156-46a9-a709-7d7f2acc1379",
   "metadata": {},
   "outputs": [],
   "source": [
    "INT:"
   ]
  },
  {
   "cell_type": "code",
   "execution_count": 1,
   "id": "f976da8e-53ef-41ad-b9ce-b4d5e8b4f61d",
   "metadata": {},
   "outputs": [
    {
     "name": "stdout",
     "output_type": "stream",
     "text": [
      "80\n"
     ]
    }
   ],
   "source": [
    "a = 30\n",
    "b = 50 \n",
    "print(a+b)"
   ]
  },
  {
   "cell_type": "code",
   "execution_count": 3,
   "id": "f11d9363-c5c8-4caa-825d-4106e35626d9",
   "metadata": {},
   "outputs": [
    {
     "name": "stdout",
     "output_type": "stream",
     "text": [
      "-20\n"
     ]
    }
   ],
   "source": [
    "print(a-b)"
   ]
  },
  {
   "cell_type": "code",
   "execution_count": 5,
   "id": "b9964b2f-e860-4611-bf68-83f2d1dfe834",
   "metadata": {},
   "outputs": [
    {
     "name": "stdout",
     "output_type": "stream",
     "text": [
      "1500\n"
     ]
    }
   ],
   "source": [
    "print(a*b)"
   ]
  },
  {
   "cell_type": "code",
   "execution_count": 7,
   "id": "f0baba18-12bc-4ecc-9b70-5394f2d85ed6",
   "metadata": {},
   "outputs": [
    {
     "name": "stdout",
     "output_type": "stream",
     "text": [
      "0.6\n"
     ]
    }
   ],
   "source": [
    "print(a/b)"
   ]
  },
  {
   "cell_type": "code",
   "execution_count": 9,
   "id": "0b5377f0-1f2d-407c-8b77-9b5ae4dc62ee",
   "metadata": {},
   "outputs": [
    {
     "name": "stdout",
     "output_type": "stream",
     "text": [
      "0\n"
     ]
    }
   ],
   "source": [
    "print(a//b) #integer division"
   ]
  },
  {
   "cell_type": "code",
   "execution_count": 11,
   "id": "2872e490-e93e-4e57-ad4e-dc15df0f31fd",
   "metadata": {},
   "outputs": [
    {
     "name": "stdout",
     "output_type": "stream",
     "text": [
      "71789798769185258877024900000000000000000000000000000000000000000000000000\n"
     ]
    }
   ],
   "source": [
    "print(a**b)"
   ]
  },
  {
   "cell_type": "code",
   "execution_count": 13,
   "id": "14dccdd8-ebe1-462b-8580-fa7ce3b4cc08",
   "metadata": {},
   "outputs": [
    {
     "name": "stdout",
     "output_type": "stream",
     "text": [
      "30\n"
     ]
    }
   ],
   "source": [
    "print(a%b)"
   ]
  },
  {
   "cell_type": "code",
   "execution_count": null,
   "id": "acac6c31-3b50-49c7-b24c-879658a0f29d",
   "metadata": {},
   "outputs": [],
   "source": [
    "EX:\n",
    "Assignment operator"
   ]
  },
  {
   "cell_type": "code",
   "execution_count": 37,
   "id": "3a1b6bad-4d9d-4bba-969c-1629847acee0",
   "metadata": {},
   "outputs": [
    {
     "name": "stdout",
     "output_type": "stream",
     "text": [
      "False\n"
     ]
    }
   ],
   "source": [
    "a = 3 \n",
    "b = 3 \n",
    "\n",
    "if a!=b:\n",
    "    print(True) \n",
    "else:\n",
    "    print(False)"
   ]
  },
  {
   "cell_type": "code",
   "execution_count": 39,
   "id": "723883b4-f077-40b0-a07b-d6c1018a1200",
   "metadata": {},
   "outputs": [
    {
     "name": "stdout",
     "output_type": "stream",
     "text": [
      "False\n"
     ]
    }
   ],
   "source": [
    "print(a>b)"
   ]
  },
  {
   "cell_type": "markdown",
   "id": "3149d569-5ff6-4997-a2eb-5d684d9dc5a7",
   "metadata": {},
   "source": [
    "SET:\n"
   ]
  },
  {
   "cell_type": "code",
   "execution_count": 41,
   "id": "88ad92a5-875c-4f9a-8e67-f7929a36e1cd",
   "metadata": {},
   "outputs": [
    {
     "data": {
      "text/plain": [
       "{}"
      ]
     },
     "execution_count": 41,
     "metadata": {},
     "output_type": "execute_result"
    }
   ],
   "source": [
    "s = {}\n",
    "s"
   ]
  },
  {
   "cell_type": "code",
   "execution_count": 43,
   "id": "d65709a8-2860-461b-aa81-71d725f07261",
   "metadata": {},
   "outputs": [
    {
     "data": {
      "text/plain": [
       "{1, 2, 3, 4, 5}"
      ]
     },
     "execution_count": 43,
     "metadata": {},
     "output_type": "execute_result"
    }
   ],
   "source": [
    "s1 = {1,2,3,4,5} \n",
    "s1"
   ]
  },
  {
   "cell_type": "code",
   "execution_count": 45,
   "id": "481ae6d1-225f-4aed-b598-62c191f3018e",
   "metadata": {},
   "outputs": [
    {
     "data": {
      "text/plain": [
       "{4, 5, 6, 7, 8}"
      ]
     },
     "execution_count": 45,
     "metadata": {},
     "output_type": "execute_result"
    }
   ],
   "source": [
    "s2 = {4,5,6,7,8}\n",
    "s2"
   ]
  },
  {
   "cell_type": "code",
   "execution_count": 47,
   "id": "197d8f25-639e-4a4e-8581-721348ee8fad",
   "metadata": {},
   "outputs": [
    {
     "data": {
      "text/plain": [
       "{8, 9, 10}"
      ]
     },
     "execution_count": 47,
     "metadata": {},
     "output_type": "execute_result"
    }
   ],
   "source": [
    "s3 = {8,9,10}\n",
    "s3"
   ]
  },
  {
   "cell_type": "code",
   "execution_count": 49,
   "id": "2f3cc6ad-2dc4-4e75-93b3-7ec76e7d8066",
   "metadata": {},
   "outputs": [
    {
     "name": "stdout",
     "output_type": "stream",
     "text": [
      "{1, 2, 3, 4, 5}\n",
      "{4, 5, 6, 7, 8}\n",
      "{8, 9, 10}\n"
     ]
    }
   ],
   "source": [
    "print(s1)\n",
    "print(s2)\n",
    "print(s3)"
   ]
  },
  {
   "cell_type": "code",
   "execution_count": 51,
   "id": "96659988-878c-47d1-b489-bd19ba5d3c84",
   "metadata": {},
   "outputs": [
    {
     "data": {
      "text/plain": [
       "{1, 2, 3, 4, 5, 6, 7, 8}"
      ]
     },
     "execution_count": 51,
     "metadata": {},
     "output_type": "execute_result"
    }
   ],
   "source": [
    "s1|s2"
   ]
  },
  {
   "cell_type": "code",
   "execution_count": 53,
   "id": "1fc8a2ca-d924-4768-b007-236e6e4c5117",
   "metadata": {},
   "outputs": [
    {
     "data": {
      "text/plain": [
       "{1, 2, 3, 4, 5, 6, 7, 8}"
      ]
     },
     "execution_count": 53,
     "metadata": {},
     "output_type": "execute_result"
    }
   ],
   "source": [
    "s1.union(s2)"
   ]
  },
  {
   "cell_type": "code",
   "execution_count": 55,
   "id": "1059aaf4-eb57-41a4-85de-826c5be7b149",
   "metadata": {},
   "outputs": [
    {
     "data": {
      "text/plain": [
       "{1, 2, 3, 4, 5, 8, 9, 10}"
      ]
     },
     "execution_count": 55,
     "metadata": {},
     "output_type": "execute_result"
    }
   ],
   "source": [
    "s1|s3"
   ]
  },
  {
   "cell_type": "code",
   "execution_count": 61,
   "id": "3fcfec51-a0d4-4dae-beac-8489e19529ff",
   "metadata": {},
   "outputs": [
    {
     "data": {
      "text/plain": [
       "{1, 2, 3, 4, 5, 6, 7, 8}"
      ]
     },
     "execution_count": 61,
     "metadata": {},
     "output_type": "execute_result"
    }
   ],
   "source": [
    "s1.update(s2)\n",
    "s1"
   ]
  },
  {
   "cell_type": "code",
   "execution_count": 63,
   "id": "1d37640e-90c0-4716-bc4f-6ea758f7f9b9",
   "metadata": {},
   "outputs": [
    {
     "data": {
      "text/plain": [
       "{1, 2, 3, 4, 5, 6, 7, 8}"
      ]
     },
     "execution_count": 63,
     "metadata": {},
     "output_type": "execute_result"
    }
   ],
   "source": [
    "s1"
   ]
  },
  {
   "cell_type": "code",
   "execution_count": 65,
   "id": "35194bb8-eb2b-4b64-a1d0-c7b5da2f3891",
   "metadata": {},
   "outputs": [
    {
     "data": {
      "text/plain": [
       "{4, 5, 6, 7, 8}"
      ]
     },
     "execution_count": 65,
     "metadata": {},
     "output_type": "execute_result"
    }
   ],
   "source": [
    "s2"
   ]
  },
  {
   "cell_type": "code",
   "execution_count": 67,
   "id": "1269ee62-77e0-4396-a7d6-a95cc4086fd8",
   "metadata": {},
   "outputs": [
    {
     "data": {
      "text/plain": [
       "{8, 9, 10}"
      ]
     },
     "execution_count": 67,
     "metadata": {},
     "output_type": "execute_result"
    }
   ],
   "source": [
    "s3"
   ]
  },
  {
   "cell_type": "code",
   "execution_count": 69,
   "id": "709ca865-c428-4abc-86cf-6942d46b40ab",
   "metadata": {},
   "outputs": [
    {
     "name": "stdout",
     "output_type": "stream",
     "text": [
      "{1, 2, 3, 4, 5, 6, 7, 8}\n",
      "{4, 5, 6, 7, 8}\n",
      "{8, 9, 10}\n"
     ]
    }
   ],
   "source": [
    "print(s1)\n",
    "print(s2)\n",
    "print(s3)"
   ]
  },
  {
   "cell_type": "code",
   "execution_count": 73,
   "id": "793460d8-f311-44d8-aa85-9428d626ed03",
   "metadata": {},
   "outputs": [
    {
     "data": {
      "text/plain": [
       "{4, 5, 6, 7, 8, 9}"
      ]
     },
     "execution_count": 73,
     "metadata": {},
     "output_type": "execute_result"
    }
   ],
   "source": [
    "s2.add(9)\n",
    "s2"
   ]
  },
  {
   "cell_type": "code",
   "execution_count": 77,
   "id": "6fdd55dd-63e8-45ab-9116-bf5aa6b84b5e",
   "metadata": {},
   "outputs": [
    {
     "data": {
      "text/plain": [
       "{4, 5, 6, 7, 8}"
      ]
     },
     "execution_count": 77,
     "metadata": {},
     "output_type": "execute_result"
    }
   ],
   "source": [
    "s1.intersection(s2) "
   ]
  },
  {
   "cell_type": "code",
   "execution_count": 79,
   "id": "a206b998-5480-4200-ae1e-f21c00ec2f41",
   "metadata": {},
   "outputs": [
    {
     "data": {
      "text/plain": [
       "{8, 9}"
      ]
     },
     "execution_count": 79,
     "metadata": {},
     "output_type": "execute_result"
    }
   ],
   "source": [
    "s2.intersection(s3)"
   ]
  },
  {
   "cell_type": "code",
   "execution_count": 81,
   "id": "679838d0-6a1d-4e58-b768-cd2361044324",
   "metadata": {},
   "outputs": [
    {
     "data": {
      "text/plain": [
       "{1, 2, 3, 4, 5, 6, 7, 8}"
      ]
     },
     "execution_count": 81,
     "metadata": {},
     "output_type": "execute_result"
    }
   ],
   "source": [
    "s1"
   ]
  },
  {
   "cell_type": "code",
   "execution_count": 83,
   "id": "4710acd5-f9b1-4be0-8dd2-cf5092a79b68",
   "metadata": {},
   "outputs": [],
   "source": [
    "s1.remove(6) \n",
    "s1.remove(7) \n",
    "s1.remove(3) "
   ]
  },
  {
   "cell_type": "code",
   "execution_count": 85,
   "id": "9975853a-2d39-40b6-bd23-87464e646462",
   "metadata": {},
   "outputs": [
    {
     "data": {
      "text/plain": [
       "{1, 2, 4, 5, 8}"
      ]
     },
     "execution_count": 85,
     "metadata": {},
     "output_type": "execute_result"
    }
   ],
   "source": [
    "s1"
   ]
  },
  {
   "cell_type": "code",
   "execution_count": 89,
   "id": "fbe6171a-d36d-4b3b-b706-5ce51190a575",
   "metadata": {},
   "outputs": [
    {
     "data": {
      "text/plain": [
       "{4, 5, 8}"
      ]
     },
     "execution_count": 89,
     "metadata": {},
     "output_type": "execute_result"
    }
   ],
   "source": [
    "s1.intersection_update(s2)\n",
    "s1"
   ]
  },
  {
   "cell_type": "code",
   "execution_count": 91,
   "id": "34e8cdd0-9f2b-4d27-ade3-4f6835ba6ca2",
   "metadata": {},
   "outputs": [
    {
     "data": {
      "text/plain": [
       "{8}"
      ]
     },
     "execution_count": 91,
     "metadata": {},
     "output_type": "execute_result"
    }
   ],
   "source": [
    "s1.intersection_update(s3)\n",
    "s1"
   ]
  },
  {
   "cell_type": "code",
   "execution_count": 95,
   "id": "1c14be8a-f496-4dcf-921c-28ad8db0d055",
   "metadata": {},
   "outputs": [
    {
     "data": {
      "text/plain": [
       "{8, 9}"
      ]
     },
     "execution_count": 95,
     "metadata": {},
     "output_type": "execute_result"
    }
   ],
   "source": [
    "s2.intersection_update(s3)\n",
    "s2"
   ]
  },
  {
   "cell_type": "code",
   "execution_count": 97,
   "id": "0349f0b3-9316-471e-8b7b-57b40736c152",
   "metadata": {},
   "outputs": [
    {
     "name": "stdout",
     "output_type": "stream",
     "text": [
      "{8}\n",
      "{8, 9}\n",
      "{8, 9, 10}\n"
     ]
    }
   ],
   "source": [
    "print(s1)\n",
    "print(s2)\n",
    "print(s3)"
   ]
  },
  {
   "cell_type": "code",
   "execution_count": 105,
   "id": "147d3f4e-517c-4cd6-a1a2-4175e01e9e5e",
   "metadata": {},
   "outputs": [],
   "source": [
    "s1.add(1)\n",
    "s1.add(2)\n",
    "s1.add(3)\n",
    "s1.add(4)\n",
    "s2.add(5)\n",
    "s2.add(6)\n",
    "s2.add(7) \n",
    "s1.add(5)"
   ]
  },
  {
   "cell_type": "code",
   "execution_count": 107,
   "id": "94bad660-72d0-4dbf-9fbe-ccae1c70a493",
   "metadata": {},
   "outputs": [
    {
     "data": {
      "text/plain": [
       "{1, 2, 3, 4, 5, 8}"
      ]
     },
     "execution_count": 107,
     "metadata": {},
     "output_type": "execute_result"
    }
   ],
   "source": [
    "s1"
   ]
  },
  {
   "cell_type": "code",
   "execution_count": 109,
   "id": "2199dce0-f380-4b61-99e5-0e4ef6d2e310",
   "metadata": {},
   "outputs": [
    {
     "data": {
      "text/plain": [
       "{5, 6, 7, 8, 9}"
      ]
     },
     "execution_count": 109,
     "metadata": {},
     "output_type": "execute_result"
    }
   ],
   "source": [
    "s2"
   ]
  },
  {
   "cell_type": "code",
   "execution_count": 111,
   "id": "b37c6203-c76c-473f-a8c9-d361723e1eae",
   "metadata": {},
   "outputs": [
    {
     "name": "stdout",
     "output_type": "stream",
     "text": [
      "{1, 2, 3, 4, 5, 8}\n",
      "{5, 6, 7, 8, 9}\n",
      "{8, 9, 10}\n"
     ]
    }
   ],
   "source": [
    "print(s1)\n",
    "print(s2)\n",
    "print(s3)"
   ]
  },
  {
   "cell_type": "code",
   "execution_count": 113,
   "id": "fdce5760-678c-4fd5-a94b-0b8575a220c5",
   "metadata": {},
   "outputs": [
    {
     "data": {
      "text/plain": [
       "{1, 2, 3, 4, 6, 7, 9}"
      ]
     },
     "execution_count": 113,
     "metadata": {},
     "output_type": "execute_result"
    }
   ],
   "source": [
    "s1.symmetric_difference(s2)"
   ]
  },
  {
   "cell_type": "code",
   "execution_count": 115,
   "id": "6d299a62-9aca-4e71-92b5-ee6f925f459c",
   "metadata": {},
   "outputs": [
    {
     "data": {
      "text/plain": [
       "{5, 6, 7, 10}"
      ]
     },
     "execution_count": 115,
     "metadata": {},
     "output_type": "execute_result"
    }
   ],
   "source": [
    "s2.symmetric_difference(s3)"
   ]
  },
  {
   "cell_type": "code",
   "execution_count": 123,
   "id": "05a6f0fe-cd13-47eb-b468-994866231acc",
   "metadata": {},
   "outputs": [
    {
     "data": {
      "text/plain": [
       "{1, 2, 3, 4, 5, 8}"
      ]
     },
     "execution_count": 123,
     "metadata": {},
     "output_type": "execute_result"
    }
   ],
   "source": [
    "s1.symmetric_difference_update(s2)\n",
    "s1"
   ]
  },
  {
   "cell_type": "code",
   "execution_count": 127,
   "id": "30da0f8c-48ff-4bd7-9a17-170fb50cf454",
   "metadata": {},
   "outputs": [
    {
     "data": {
      "text/plain": [
       "{5, 6, 7, 8, 9}"
      ]
     },
     "execution_count": 127,
     "metadata": {},
     "output_type": "execute_result"
    }
   ],
   "source": [
    "s2.symmetric_difference_update(s1)\n",
    "s2"
   ]
  },
  {
   "cell_type": "code",
   "execution_count": 131,
   "id": "6a504e5e-9f5f-41f8-af73-5010a46d0cd0",
   "metadata": {},
   "outputs": [
    {
     "data": {
      "text/plain": [
       "{8, 9, 10}"
      ]
     },
     "execution_count": 131,
     "metadata": {},
     "output_type": "execute_result"
    }
   ],
   "source": [
    "s3.symmetric_difference_update(s1)\n",
    "s3"
   ]
  },
  {
   "cell_type": "code",
   "execution_count": 133,
   "id": "a9c06745-016e-49f9-a48b-21aeeb56fec7",
   "metadata": {},
   "outputs": [
    {
     "name": "stdout",
     "output_type": "stream",
     "text": [
      "{1, 2, 3, 4, 5, 8}\n",
      "{6, 7, 5, 9, 8}\n",
      "{8, 9, 10}\n"
     ]
    }
   ],
   "source": [
    "print(s1)\n",
    "print(s2)\n",
    "print(s3)"
   ]
  },
  {
   "cell_type": "code",
   "execution_count": 135,
   "id": "7fa2db4a-8407-4f9f-8cb7-b661988ef000",
   "metadata": {},
   "outputs": [],
   "source": [
    "s3.clear()"
   ]
  },
  {
   "cell_type": "code",
   "execution_count": 137,
   "id": "8ee39473-57a8-45d5-812e-68cb9a84aab0",
   "metadata": {},
   "outputs": [
    {
     "data": {
      "text/plain": [
       "{10, 20, 30, 40}"
      ]
     },
     "execution_count": 137,
     "metadata": {},
     "output_type": "execute_result"
    }
   ],
   "source": [
    "s3 = {10,20,30,40}\n",
    "s3"
   ]
  },
  {
   "cell_type": "code",
   "execution_count": 139,
   "id": "2475c7cf-670c-4ee9-81a7-c6496f2b04d2",
   "metadata": {},
   "outputs": [
    {
     "data": {
      "text/plain": [
       "{1, 2, 3, 4, 5}"
      ]
     },
     "execution_count": 139,
     "metadata": {},
     "output_type": "execute_result"
    }
   ],
   "source": [
    "s1.remove(8)\n",
    "s1"
   ]
  },
  {
   "cell_type": "code",
   "execution_count": 141,
   "id": "c63f82c3-a80f-4e9c-8d86-fdced333ec1d",
   "metadata": {},
   "outputs": [
    {
     "name": "stdout",
     "output_type": "stream",
     "text": [
      "{1, 2, 3, 4, 5}\n",
      "{6, 7, 5, 9, 8}\n",
      "{40, 10, 20, 30}\n"
     ]
    }
   ],
   "source": [
    "print(s1)\n",
    "print(s2)\n",
    "print(s3)"
   ]
  },
  {
   "cell_type": "code",
   "execution_count": 143,
   "id": "22af8470-a973-4e40-8093-23f04c66acc5",
   "metadata": {},
   "outputs": [
    {
     "data": {
      "text/plain": [
       "False"
      ]
     },
     "execution_count": 143,
     "metadata": {},
     "output_type": "execute_result"
    }
   ],
   "source": [
    "s1.issubset(s2)"
   ]
  },
  {
   "cell_type": "code",
   "execution_count": 145,
   "id": "8cfcf4dd-b02b-4020-a273-ca64f8c78669",
   "metadata": {},
   "outputs": [
    {
     "data": {
      "text/plain": [
       "False"
      ]
     },
     "execution_count": 145,
     "metadata": {},
     "output_type": "execute_result"
    }
   ],
   "source": [
    "s2.issubset(s1)"
   ]
  },
  {
   "cell_type": "code",
   "execution_count": 159,
   "id": "c5cdee54-93fd-4c14-921a-787aa163bd4b",
   "metadata": {},
   "outputs": [],
   "source": [
    "s2.add(3)\n",
    "s2.add(4) \n",
    "s2.add(6)"
   ]
  },
  {
   "cell_type": "code",
   "execution_count": 161,
   "id": "bfc6c437-b475-4d00-b5c5-c53b8a1ed84a",
   "metadata": {},
   "outputs": [
    {
     "data": {
      "text/plain": [
       "{3, 4, 5, 6, 9}"
      ]
     },
     "execution_count": 161,
     "metadata": {},
     "output_type": "execute_result"
    }
   ],
   "source": [
    "s2"
   ]
  },
  {
   "cell_type": "code",
   "execution_count": 163,
   "id": "ef349a21-07b2-4c96-af6e-cde0c19e6491",
   "metadata": {},
   "outputs": [
    {
     "data": {
      "text/plain": [
       "{3, 4, 5, 6, 9}"
      ]
     },
     "execution_count": 163,
     "metadata": {},
     "output_type": "execute_result"
    }
   ],
   "source": [
    "s2"
   ]
  },
  {
   "cell_type": "code",
   "execution_count": 165,
   "id": "c5fa7902-2be5-4380-8101-19251becdce9",
   "metadata": {},
   "outputs": [
    {
     "data": {
      "text/plain": [
       "{1, 2, 3, 4, 5}"
      ]
     },
     "execution_count": 165,
     "metadata": {},
     "output_type": "execute_result"
    }
   ],
   "source": [
    "s1"
   ]
  },
  {
   "cell_type": "code",
   "execution_count": 167,
   "id": "80aaa67d-eb85-4a35-8bb3-829c7d736ace",
   "metadata": {},
   "outputs": [],
   "source": [
    "s1.add(6)"
   ]
  },
  {
   "cell_type": "code",
   "execution_count": 169,
   "id": "6ebbafc0-da69-40c0-9720-653fb3551300",
   "metadata": {},
   "outputs": [
    {
     "data": {
      "text/plain": [
       "{1, 2, 3, 4, 5, 6}"
      ]
     },
     "execution_count": 169,
     "metadata": {},
     "output_type": "execute_result"
    }
   ],
   "source": [
    "s1"
   ]
  },
  {
   "cell_type": "code",
   "execution_count": 171,
   "id": "e4d2e49c-998c-4cfd-a75c-0470894b9ea1",
   "metadata": {},
   "outputs": [],
   "source": [
    "s2.remove(9)"
   ]
  },
  {
   "cell_type": "code",
   "execution_count": 173,
   "id": "f9b1db1f-fe17-441d-bcc5-86c1302e9abf",
   "metadata": {},
   "outputs": [
    {
     "data": {
      "text/plain": [
       "{3, 4, 5, 6}"
      ]
     },
     "execution_count": 173,
     "metadata": {},
     "output_type": "execute_result"
    }
   ],
   "source": [
    "s2"
   ]
  },
  {
   "cell_type": "code",
   "execution_count": 175,
   "id": "a2dd1cae-0c4f-4436-86f8-da4439eb6d56",
   "metadata": {},
   "outputs": [
    {
     "data": {
      "text/plain": [
       "False"
      ]
     },
     "execution_count": 175,
     "metadata": {},
     "output_type": "execute_result"
    }
   ],
   "source": [
    "s1.issubset(s2)"
   ]
  },
  {
   "cell_type": "code",
   "execution_count": 177,
   "id": "638b992e-6a01-4761-afae-5268ed1be7ba",
   "metadata": {},
   "outputs": [],
   "source": [
    "a = {1,2,3,4,5,6,7,8}\n",
    "b = {3,4,5,6,7,8}\n",
    "c = {10,20,30,40}\n"
   ]
  },
  {
   "cell_type": "code",
   "execution_count": 179,
   "id": "f8f6fa84-2199-4f7e-a4e7-481e19af0ba7",
   "metadata": {},
   "outputs": [
    {
     "data": {
      "text/plain": [
       "{1, 2, 3, 4, 5, 6, 7, 8}"
      ]
     },
     "execution_count": 179,
     "metadata": {},
     "output_type": "execute_result"
    }
   ],
   "source": [
    "a"
   ]
  },
  {
   "cell_type": "code",
   "execution_count": 181,
   "id": "1a96e391-5a41-4ecc-991c-1d68ba942f2c",
   "metadata": {},
   "outputs": [
    {
     "data": {
      "text/plain": [
       "{3, 4, 5, 6, 7, 8}"
      ]
     },
     "execution_count": 181,
     "metadata": {},
     "output_type": "execute_result"
    }
   ],
   "source": [
    "b"
   ]
  },
  {
   "cell_type": "code",
   "execution_count": 183,
   "id": "16499340-b573-448d-b11e-47dbded829c3",
   "metadata": {},
   "outputs": [
    {
     "data": {
      "text/plain": [
       "{10, 20, 30, 40}"
      ]
     },
     "execution_count": 183,
     "metadata": {},
     "output_type": "execute_result"
    }
   ],
   "source": [
    "c"
   ]
  },
  {
   "cell_type": "code",
   "execution_count": 185,
   "id": "a8bf4d49-7539-458c-820c-17f9fd3b15f8",
   "metadata": {},
   "outputs": [
    {
     "data": {
      "text/plain": [
       "False"
      ]
     },
     "execution_count": 185,
     "metadata": {},
     "output_type": "execute_result"
    }
   ],
   "source": [
    "a.issubset(b)"
   ]
  },
  {
   "cell_type": "code",
   "execution_count": 187,
   "id": "037f3c73-56c6-4300-a76f-dfed5e027047",
   "metadata": {},
   "outputs": [
    {
     "data": {
      "text/plain": [
       "False"
      ]
     },
     "execution_count": 187,
     "metadata": {},
     "output_type": "execute_result"
    }
   ],
   "source": [
    "b.issuperset(a)"
   ]
  },
  {
   "cell_type": "code",
   "execution_count": 189,
   "id": "c407828b-a89a-4a87-8e4a-0f14951bcf2a",
   "metadata": {},
   "outputs": [
    {
     "data": {
      "text/plain": [
       "True"
      ]
     },
     "execution_count": 189,
     "metadata": {},
     "output_type": "execute_result"
    }
   ],
   "source": [
    "c.isdisjoint(a)"
   ]
  },
  {
   "cell_type": "code",
   "execution_count": 191,
   "id": "0f0dc6d3-e2bc-4d41-ab00-ccdf3f4985fe",
   "metadata": {},
   "outputs": [
    {
     "data": {
      "text/plain": [
       "True"
      ]
     },
     "execution_count": 191,
     "metadata": {},
     "output_type": "execute_result"
    }
   ],
   "source": [
    "b.issubset(a)"
   ]
  },
  {
   "cell_type": "code",
   "execution_count": 193,
   "id": "e05b1aa9-e7cd-4fd1-bb7f-3a225c7fde1d",
   "metadata": {},
   "outputs": [
    {
     "data": {
      "text/plain": [
       "True"
      ]
     },
     "execution_count": 193,
     "metadata": {},
     "output_type": "execute_result"
    }
   ],
   "source": [
    "a.issuperset(b)"
   ]
  },
  {
   "cell_type": "code",
   "execution_count": 195,
   "id": "bf6f7897-9f3f-452c-91a2-b0d16ad9885a",
   "metadata": {},
   "outputs": [
    {
     "data": {
      "text/plain": [
       "8"
      ]
     },
     "execution_count": 195,
     "metadata": {},
     "output_type": "execute_result"
    }
   ],
   "source": [
    "max(a)"
   ]
  },
  {
   "cell_type": "code",
   "execution_count": 197,
   "id": "6731c31a-746e-4cb9-ae4f-b5f0513f0614",
   "metadata": {},
   "outputs": [
    {
     "data": {
      "text/plain": [
       "1"
      ]
     },
     "execution_count": 197,
     "metadata": {},
     "output_type": "execute_result"
    }
   ],
   "source": [
    "min(a)"
   ]
  },
  {
   "cell_type": "code",
   "execution_count": 199,
   "id": "35f8b16c-010e-4876-b949-2fd3501b5e53",
   "metadata": {},
   "outputs": [
    {
     "data": {
      "text/plain": [
       "8"
      ]
     },
     "execution_count": 199,
     "metadata": {},
     "output_type": "execute_result"
    }
   ],
   "source": [
    "len(a)"
   ]
  },
  {
   "cell_type": "markdown",
   "id": "642cd7d5-676c-4bc3-93a3-61696496f5a9",
   "metadata": {},
   "source": [
    "DICT"
   ]
  },
  {
   "cell_type": "code",
   "execution_count": null,
   "id": "dd0d841d-6e0f-4d0b-a2f1-ca7d1b15d7f9",
   "metadata": {},
   "outputs": [],
   "source": []
  },
  {
   "cell_type": "markdown",
   "id": "39d07d2a-3719-40c2-97bc-368375a594d5",
   "metadata": {},
   "source": [
    "NUMBER SYSTEM"
   ]
  },
  {
   "cell_type": "code",
   "execution_count": 1,
   "id": "11d54b2d-6230-44b0-942c-97d2ac8d8ba4",
   "metadata": {},
   "outputs": [
    {
     "data": {
      "text/plain": [
       "'0b11001'"
      ]
     },
     "execution_count": 1,
     "metadata": {},
     "output_type": "execute_result"
    }
   ],
   "source": [
    "bin(25)"
   ]
  },
  {
   "cell_type": "code",
   "execution_count": 3,
   "id": "cc345978-d9bb-42f8-893c-e7649041ceb4",
   "metadata": {},
   "outputs": [
    {
     "data": {
      "text/plain": [
       "'0o53'"
      ]
     },
     "execution_count": 3,
     "metadata": {},
     "output_type": "execute_result"
    }
   ],
   "source": [
    "oct(43)"
   ]
  },
  {
   "cell_type": "code",
   "execution_count": 5,
   "id": "014ef8bd-2c80-4fb5-ae0a-8afdd9745cce",
   "metadata": {},
   "outputs": [
    {
     "data": {
      "text/plain": [
       "'0x8f'"
      ]
     },
     "execution_count": 5,
     "metadata": {},
     "output_type": "execute_result"
    }
   ],
   "source": [
    "hex(143)"
   ]
  },
  {
   "cell_type": "markdown",
   "id": "56ff52ad-1eca-4334-b527-22a382bffffb",
   "metadata": {},
   "source": [
    "IMPORT MATH"
   ]
  },
  {
   "cell_type": "code",
   "execution_count": 27,
   "id": "7b0191d7-cef4-4970-b691-2b9ba7cebc1c",
   "metadata": {},
   "outputs": [],
   "source": [
    "import math"
   ]
  },
  {
   "cell_type": "code",
   "execution_count": 31,
   "id": "a9adce44-0602-416f-8190-95f9ccf917be",
   "metadata": {},
   "outputs": [
    {
     "data": {
      "text/plain": [
       "5.0"
      ]
     },
     "execution_count": 31,
     "metadata": {},
     "output_type": "execute_result"
    }
   ],
   "source": [
    "a = math.sqrt(25) \n",
    "a"
   ]
  },
  {
   "cell_type": "code",
   "execution_count": 33,
   "id": "a5441e0d-ef0e-4251-a59f-3e74bb688fe5",
   "metadata": {},
   "outputs": [
    {
     "data": {
      "text/plain": [
       "11.958260743101398"
      ]
     },
     "execution_count": 33,
     "metadata": {},
     "output_type": "execute_result"
    }
   ],
   "source": [
    "b = math.sqrt(143)\n",
    "b"
   ]
  },
  {
   "cell_type": "code",
   "execution_count": 37,
   "id": "5d4d6f77-672e-4a73-89a8-a81d83ada05a",
   "metadata": {},
   "outputs": [
    {
     "name": "stdout",
     "output_type": "stream",
     "text": [
      "11\n"
     ]
    }
   ],
   "source": [
    "print(math.floor(11.9))"
   ]
  },
  {
   "cell_type": "code",
   "execution_count": 39,
   "id": "0f2055b1-f82a-4195-88fb-08baec60f439",
   "metadata": {},
   "outputs": [
    {
     "name": "stdout",
     "output_type": "stream",
     "text": [
      "5\n"
     ]
    }
   ],
   "source": [
    "print(math.floor(5.0))"
   ]
  },
  {
   "cell_type": "code",
   "execution_count": 41,
   "id": "73044fda-d228-426c-9200-7bf1c6d2f6b4",
   "metadata": {},
   "outputs": [
    {
     "name": "stdout",
     "output_type": "stream",
     "text": [
      "12\n"
     ]
    }
   ],
   "source": [
    "print(math.ceil(11.95))"
   ]
  },
  {
   "cell_type": "code",
   "execution_count": 47,
   "id": "98fa7e9b-d3be-40b7-b779-8ebcc5bfd22f",
   "metadata": {},
   "outputs": [
    {
     "name": "stdout",
     "output_type": "stream",
     "text": [
      "5\n"
     ]
    }
   ],
   "source": [
    "print(math.ceil(5.0))"
   ]
  },
  {
   "cell_type": "code",
   "execution_count": 49,
   "id": "f3e3651e-73dd-4847-b6b8-34189137f6ca",
   "metadata": {},
   "outputs": [
    {
     "name": "stdout",
     "output_type": "stream",
     "text": [
      "5.0\n",
      "11\n",
      "12\n",
      "81.0\n"
     ]
    }
   ],
   "source": [
    "from math import * \n",
    "print(a) \n",
    "print(math.floor(11.9))\n",
    "print(math.ceil(11.95))\n",
    "print(math.pow(3,4))"
   ]
  },
  {
   "cell_type": "code",
   "execution_count": 59,
   "id": "3062910a-e52f-4368-a19c-d6f2a0f51703",
   "metadata": {},
   "outputs": [],
   "source": [
    "import math as m"
   ]
  },
  {
   "cell_type": "code",
   "execution_count": 63,
   "id": "9a47a04d-4598-44c3-9258-25c527299cbe",
   "metadata": {},
   "outputs": [
    {
     "data": {
      "text/plain": [
       "15.874507866387544"
      ]
     },
     "execution_count": 63,
     "metadata": {},
     "output_type": "execute_result"
    }
   ],
   "source": [
    "m.sqrt(252)"
   ]
  },
  {
   "cell_type": "code",
   "execution_count": 65,
   "id": "df5cb9fb-b1a5-4b17-981f-7eb64451561e",
   "metadata": {},
   "outputs": [
    {
     "data": {
      "text/plain": [
       "15"
      ]
     },
     "execution_count": 65,
     "metadata": {},
     "output_type": "execute_result"
    }
   ],
   "source": [
    "m.floor(15.8)"
   ]
  },
  {
   "cell_type": "code",
   "execution_count": 67,
   "id": "1fdbe8e9-d5a5-40ce-868a-989bba9ffada",
   "metadata": {},
   "outputs": [
    {
     "data": {
      "text/plain": [
       "16"
      ]
     },
     "execution_count": 67,
     "metadata": {},
     "output_type": "execute_result"
    }
   ],
   "source": [
    "m.ceil(15.87)"
   ]
  },
  {
   "cell_type": "code",
   "execution_count": 69,
   "id": "21612c73-793e-4196-bd81-2c7384de9c1f",
   "metadata": {},
   "outputs": [
    {
     "data": {
      "text/plain": [
       "1e+54"
      ]
     },
     "execution_count": 69,
     "metadata": {},
     "output_type": "execute_result"
    }
   ],
   "source": [
    "m.pow(10,54)"
   ]
  },
  {
   "cell_type": "code",
   "execution_count": 71,
   "id": "d14cc7e2-6984-44ec-804f-11f823723b18",
   "metadata": {},
   "outputs": [
    {
     "data": {
      "text/plain": [
       "2.718281828459045"
      ]
     },
     "execution_count": 71,
     "metadata": {},
     "output_type": "execute_result"
    }
   ],
   "source": [
    "e"
   ]
  },
  {
   "cell_type": "code",
   "execution_count": 75,
   "id": "d27d9c43-724e-4f50-9f3b-271eaf6189c5",
   "metadata": {},
   "outputs": [
    {
     "name": "stdout",
     "output_type": "stream",
     "text": [
      "5.0\n",
      "11\n",
      "12\n",
      "81.0\n"
     ]
    }
   ],
   "source": [
    "from math import sqrt,floor \n",
    "print(a) \n",
    "print(math.floor(11.9))\n",
    "print(math.ceil(11.95))\n",
    "print(math.pow(3,4))"
   ]
  },
  {
   "cell_type": "code",
   "execution_count": null,
   "id": "d09e9791-be69-4501-a2c1-0ff860d96bb0",
   "metadata": {},
   "outputs": [],
   "source": []
  }
 ],
 "metadata": {
  "kernelspec": {
   "display_name": "Python 3 (ipykernel)",
   "language": "python",
   "name": "python3"
  },
  "language_info": {
   "codemirror_mode": {
    "name": "ipython",
    "version": 3
   },
   "file_extension": ".py",
   "mimetype": "text/x-python",
   "name": "python",
   "nbconvert_exporter": "python",
   "pygments_lexer": "ipython3",
   "version": "3.12.7"
  }
 },
 "nbformat": 4,
 "nbformat_minor": 5
}
